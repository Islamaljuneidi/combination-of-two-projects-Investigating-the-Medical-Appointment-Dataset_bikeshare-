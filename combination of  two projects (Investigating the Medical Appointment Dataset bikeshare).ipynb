{
 "cells": [
  {
   "cell_type": "markdown",
   "id": "44cce271",
   "metadata": {},
   "source": [
    "#### Project:I combined two projects (Investigating the Medical Appointment Dataset_bikeshare)\n",
    "**Table of Contents**\n",
    "\n",
    "Introduction Data Wrangling Exploratory Data Analysis Conclusions\n",
    "\n",
    "Introduction The medical appointment dataset contains information on over 100k appointments from the country of Brazil. The dataset was originally sourced from Kaggle. It was created to study what factors were useful in predicting if patients would miss thier appointments. It contains basic demographic information on the patients as well as whether or not the patient received SMS notifications. In addition, it indicates if the patient received financial aid."
   ]
  },
  {
   "cell_type": "markdown",
   "id": "37318884",
   "metadata": {},
   "source": [
    "### Research questions:\n",
    "Is age indicative of whether a patient will make their appointments? Do SMS notifications coincide with fewer no shows? Do some days of the week have more no shows than others? ‘ScheduledDay’ tells us on what day the patient set up their appointment.\n",
    "\n",
    "**Neighborhood indicates the location of the hospital.**\n",
    "\n",
    "**Scholarship indicates whether or not the patient is enrolled in Brasilian welfare program Bolsa Família.**\n",
    "\n",
    "**No-show’ says ‘No’ if the patient showed up to their appointment, and Yes if they did not show up.**"
   ]
  },
  {
   "cell_type": "code",
   "execution_count": 1,
   "id": "5850d281",
   "metadata": {},
   "outputs": [],
   "source": [
    "import numpy as np\n",
    "import pandas as pd\n",
    "from matplotlib import pyplot as plt\n",
    "%matplotlib inline"
   ]
  },
  {
   "cell_type": "code",
   "execution_count": 2,
   "id": "4df71c2c",
   "metadata": {
    "scrolled": false
   },
   "outputs": [
    {
     "data": {
      "text/html": [
       "<div>\n",
       "<style scoped>\n",
       "    .dataframe tbody tr th:only-of-type {\n",
       "        vertical-align: middle;\n",
       "    }\n",
       "\n",
       "    .dataframe tbody tr th {\n",
       "        vertical-align: top;\n",
       "    }\n",
       "\n",
       "    .dataframe thead th {\n",
       "        text-align: right;\n",
       "    }\n",
       "</style>\n",
       "<table border=\"1\" class=\"dataframe\">\n",
       "  <thead>\n",
       "    <tr style=\"text-align: right;\">\n",
       "      <th></th>\n",
       "      <th>PatientId</th>\n",
       "      <th>AppointmentID</th>\n",
       "      <th>Gender</th>\n",
       "      <th>ScheduledDay</th>\n",
       "      <th>AppointmentDay</th>\n",
       "      <th>Age</th>\n",
       "      <th>Neighbourhood</th>\n",
       "      <th>Scholarship</th>\n",
       "      <th>Hipertension</th>\n",
       "      <th>Diabetes</th>\n",
       "      <th>Alcoholism</th>\n",
       "      <th>Handcap</th>\n",
       "      <th>SMS_received</th>\n",
       "      <th>No-show</th>\n",
       "    </tr>\n",
       "  </thead>\n",
       "  <tbody>\n",
       "    <tr>\n",
       "      <th>0</th>\n",
       "      <td>2.987250e+13</td>\n",
       "      <td>5642903</td>\n",
       "      <td>F</td>\n",
       "      <td>2016-04-29T18:38:08Z</td>\n",
       "      <td>2016-04-29T00:00:00Z</td>\n",
       "      <td>62</td>\n",
       "      <td>JARDIM DA PENHA</td>\n",
       "      <td>0</td>\n",
       "      <td>1</td>\n",
       "      <td>0</td>\n",
       "      <td>0</td>\n",
       "      <td>0</td>\n",
       "      <td>0</td>\n",
       "      <td>No</td>\n",
       "    </tr>\n",
       "    <tr>\n",
       "      <th>1</th>\n",
       "      <td>5.589980e+14</td>\n",
       "      <td>5642503</td>\n",
       "      <td>M</td>\n",
       "      <td>2016-04-29T16:08:27Z</td>\n",
       "      <td>2016-04-29T00:00:00Z</td>\n",
       "      <td>56</td>\n",
       "      <td>JARDIM DA PENHA</td>\n",
       "      <td>0</td>\n",
       "      <td>0</td>\n",
       "      <td>0</td>\n",
       "      <td>0</td>\n",
       "      <td>0</td>\n",
       "      <td>0</td>\n",
       "      <td>No</td>\n",
       "    </tr>\n",
       "    <tr>\n",
       "      <th>2</th>\n",
       "      <td>4.262960e+12</td>\n",
       "      <td>5642549</td>\n",
       "      <td>F</td>\n",
       "      <td>2016-04-29T16:19:04Z</td>\n",
       "      <td>2016-04-29T00:00:00Z</td>\n",
       "      <td>62</td>\n",
       "      <td>MATA DA PRAIA</td>\n",
       "      <td>0</td>\n",
       "      <td>0</td>\n",
       "      <td>0</td>\n",
       "      <td>0</td>\n",
       "      <td>0</td>\n",
       "      <td>0</td>\n",
       "      <td>No</td>\n",
       "    </tr>\n",
       "    <tr>\n",
       "      <th>3</th>\n",
       "      <td>8.679510e+11</td>\n",
       "      <td>5642828</td>\n",
       "      <td>F</td>\n",
       "      <td>2016-04-29T17:29:31Z</td>\n",
       "      <td>2016-04-29T00:00:00Z</td>\n",
       "      <td>8</td>\n",
       "      <td>PONTAL DE CAMBURI</td>\n",
       "      <td>0</td>\n",
       "      <td>0</td>\n",
       "      <td>0</td>\n",
       "      <td>0</td>\n",
       "      <td>0</td>\n",
       "      <td>0</td>\n",
       "      <td>No</td>\n",
       "    </tr>\n",
       "    <tr>\n",
       "      <th>4</th>\n",
       "      <td>8.841190e+12</td>\n",
       "      <td>5642494</td>\n",
       "      <td>F</td>\n",
       "      <td>2016-04-29T16:07:23Z</td>\n",
       "      <td>2016-04-29T00:00:00Z</td>\n",
       "      <td>56</td>\n",
       "      <td>JARDIM DA PENHA</td>\n",
       "      <td>0</td>\n",
       "      <td>1</td>\n",
       "      <td>1</td>\n",
       "      <td>0</td>\n",
       "      <td>0</td>\n",
       "      <td>0</td>\n",
       "      <td>No</td>\n",
       "    </tr>\n",
       "  </tbody>\n",
       "</table>\n",
       "</div>"
      ],
      "text/plain": [
       "      PatientId  AppointmentID Gender          ScheduledDay  \\\n",
       "0  2.987250e+13        5642903      F  2016-04-29T18:38:08Z   \n",
       "1  5.589980e+14        5642503      M  2016-04-29T16:08:27Z   \n",
       "2  4.262960e+12        5642549      F  2016-04-29T16:19:04Z   \n",
       "3  8.679510e+11        5642828      F  2016-04-29T17:29:31Z   \n",
       "4  8.841190e+12        5642494      F  2016-04-29T16:07:23Z   \n",
       "\n",
       "         AppointmentDay  Age      Neighbourhood  Scholarship  Hipertension  \\\n",
       "0  2016-04-29T00:00:00Z   62    JARDIM DA PENHA            0             1   \n",
       "1  2016-04-29T00:00:00Z   56    JARDIM DA PENHA            0             0   \n",
       "2  2016-04-29T00:00:00Z   62      MATA DA PRAIA            0             0   \n",
       "3  2016-04-29T00:00:00Z    8  PONTAL DE CAMBURI            0             0   \n",
       "4  2016-04-29T00:00:00Z   56    JARDIM DA PENHA            0             1   \n",
       "\n",
       "   Diabetes  Alcoholism  Handcap  SMS_received No-show  \n",
       "0         0           0        0             0      No  \n",
       "1         0           0        0             0      No  \n",
       "2         0           0        0             0      No  \n",
       "3         0           0        0             0      No  \n",
       "4         1           0        0             0      No  "
      ]
     },
     "execution_count": 2,
     "metadata": {},
     "output_type": "execute_result"
    }
   ],
   "source": [
    "df=pd.read_csv(\"noshowappointments-kagglev2-may-2016.csv\")\n",
    "df.head()"
   ]
  },
  {
   "cell_type": "markdown",
   "id": "1133734a",
   "metadata": {},
   "source": [
    "###  &make more function to get some information about you are looking for.\n",
    "\n",
    "### # Introduction \n",
    "**In this project, I will analyze Medical Appointment No Shows Dataset and communicate my findings about it using Python libraries NumPy, pandas, Matplotlib, and seaborn. The dataset collects information from 110k medical appointments in Brazil and is focused on the question of whether or not patients show up for their appointment.**\n",
    "\n",
    "**Get some information from the user about the month and day\n",
    "        and the age of the user and his neighbor and then we reuse this input\n",
    "        To be used to get some information about diseases and visualize it\n",
    "        So the data for the month and day that the user entered\n",
    "        will appear Some data about diseases that come to the clinic on this day and month**"
   ]
  },
  {
   "cell_type": "code",
   "execution_count": 3,
   "id": "be7cf560",
   "metadata": {},
   "outputs": [],
   "source": [
    "\n",
    "def get_user_info():\n",
    "\n",
    "    \"\"\" Get some information from the user about the month and day\n",
    "        and the age of the user and his neighbor and then we reuse this input\n",
    "        To be used to get some information about diseases and visualize it\n",
    "        So the data for the month and day that the user entered\n",
    "        will appear Some data about diseases that come to the clinic on this day and month.\n",
    "    \"\"\"\n",
    "    print('hello! let\\'s explore some Some data about diseases that come to the clinic!'.title())\n",
    "    while True:\n",
    "        months=[\"april\",\"may\",\"june\"]\n",
    "        month=input(\"Enter the month you are looking for to show you the most diseases at this month[april,may,june] \\n\".title()).lower() \n",
    "        if month not in months:\n",
    "                print(\"Please provide us with the correct month to analyze the data and avoid entering any month the correct three months\\n\".title())\n",
    "        else:\n",
    "            break\n",
    "    while True:\n",
    "        day_of_week=['Saturday','Monday','Tuesday','Wednesday','Thursday','Friday']\n",
    "        day=input(\"Enter the day you are looking for to show you the most diseases at this day[all days except sunday] \\n\".title()).capitalize()\n",
    "        if day not in day_of_week:\n",
    "                print(\"Please provide us with the correct day to analyze the data and avoid entering anthor day \\n\".title())\n",
    "        else:\n",
    "            break\n",
    "    while True:\n",
    "        year=int(input(\"Enter the year you are looking for to show you the most diseases at this year [2016 only]\\n\".title())) \n",
    "        if year != 2016:\n",
    "                print(\"Please provide us with the correct year to analyze the data and avoid entering any year except 2016 \\n\".title())\n",
    "        else:\n",
    "            break    \n",
    "    return month,day,year\n"
   ]
  },
  {
   "cell_type": "code",
   "execution_count": 4,
   "id": "a3a01936",
   "metadata": {},
   "outputs": [],
   "source": [
    "def fillter_info(month,day,year):\n",
    "    \"\"\"\n",
    "    Loads data for the specified age and filters by month and day if applicable.\n",
    "    Args:\n",
    "        (str) age - age of the user to analyze\n",
    "        (str) month - show you the most diseases at this month\n",
    "        (str) day -  the day of week to filter by, or \"all\" to apply no day filter\n",
    "    Returns:\n",
    "        df - Pandas DataFrame containing age data filtered by month and day\n",
    "    \"\"\"\n",
    "    df=pd.read_csv(r\"E:\\projects\\noshowappointments-kagglev2-may-2016.csv\")\n",
    "    #convert AppointmentDay object to datetime\n",
    "    df[\"AppointmentDay\"]=pd.to_datetime(df[\"AppointmentDay\"])\n",
    "    #insert new column to get more fillteration so we create day column\n",
    "    df[\"Day_of_week\"]=df[\"AppointmentDay\"].dt.day_name()\n",
    "    #insert new column to get more fillteration so we create month column\n",
    "    df[\"Month\"]=df[\"AppointmentDay\"].dt.month\n",
    "    #insert new column to get more fillteration so we create year column\n",
    "    df[\"Year\"]=df[\"AppointmentDay\"].dt.year\n",
    "\n",
    "    df=df[df[\"Day_of_week\"]==day.title()]\n",
    "    months=[\"april\",\"may\",\"june\"]\n",
    "    month=months.index(month)+4\n",
    "    df=df[df[\"Month\"]==month]\n",
    "    df=df[df[\"Year\"]==year]\n",
    "\n",
    "    return df "
   ]
  },
  {
   "cell_type": "code",
   "execution_count": 5,
   "id": "2ac951e2",
   "metadata": {
    "scrolled": true
   },
   "outputs": [
    {
     "name": "stdout",
     "output_type": "stream",
     "text": [
      "Hello! Let'S Explore Some Some Data About Diseases That Come To The Clinic!\n",
      "Enter The Month You Are Looking For To Show You The Most Diseases At This Month[April,May,June] \n",
      "may\n",
      "Enter The Day You Are Looking For To Show You The Most Diseases At This Day[All Days Except Sunday] \n",
      "monday\n",
      "Enter The Year You Are Looking For To Show You The Most Diseases At This Year [2016 Only]\n",
      "2016\n"
     ]
    },
    {
     "data": {
      "text/html": [
       "<div>\n",
       "<style scoped>\n",
       "    .dataframe tbody tr th:only-of-type {\n",
       "        vertical-align: middle;\n",
       "    }\n",
       "\n",
       "    .dataframe tbody tr th {\n",
       "        vertical-align: top;\n",
       "    }\n",
       "\n",
       "    .dataframe thead th {\n",
       "        text-align: right;\n",
       "    }\n",
       "</style>\n",
       "<table border=\"1\" class=\"dataframe\">\n",
       "  <thead>\n",
       "    <tr style=\"text-align: right;\">\n",
       "      <th></th>\n",
       "      <th>PatientId</th>\n",
       "      <th>AppointmentID</th>\n",
       "      <th>Gender</th>\n",
       "      <th>ScheduledDay</th>\n",
       "      <th>AppointmentDay</th>\n",
       "      <th>Age</th>\n",
       "      <th>Neighbourhood</th>\n",
       "      <th>Scholarship</th>\n",
       "      <th>Hipertension</th>\n",
       "      <th>Diabetes</th>\n",
       "      <th>Alcoholism</th>\n",
       "      <th>Handcap</th>\n",
       "      <th>SMS_received</th>\n",
       "      <th>No-show</th>\n",
       "      <th>Day_of_week</th>\n",
       "      <th>Month</th>\n",
       "      <th>Year</th>\n",
       "    </tr>\n",
       "  </thead>\n",
       "  <tbody>\n",
       "    <tr>\n",
       "      <th>3295</th>\n",
       "      <td>3.160000e+12</td>\n",
       "      <td>5644237</td>\n",
       "      <td>M</td>\n",
       "      <td>2016-05-02T08:25:18Z</td>\n",
       "      <td>2016-05-02 00:00:00+00:00</td>\n",
       "      <td>36</td>\n",
       "      <td>MARIA ORTIZ</td>\n",
       "      <td>0</td>\n",
       "      <td>0</td>\n",
       "      <td>0</td>\n",
       "      <td>0</td>\n",
       "      <td>0</td>\n",
       "      <td>0</td>\n",
       "      <td>No</td>\n",
       "      <td>Monday</td>\n",
       "      <td>5</td>\n",
       "      <td>2016</td>\n",
       "    </tr>\n",
       "    <tr>\n",
       "      <th>3296</th>\n",
       "      <td>9.750000e+11</td>\n",
       "      <td>5743758</td>\n",
       "      <td>F</td>\n",
       "      <td>2016-05-30T09:23:34Z</td>\n",
       "      <td>2016-05-30 00:00:00+00:00</td>\n",
       "      <td>52</td>\n",
       "      <td>MARIA ORTIZ</td>\n",
       "      <td>0</td>\n",
       "      <td>0</td>\n",
       "      <td>0</td>\n",
       "      <td>0</td>\n",
       "      <td>0</td>\n",
       "      <td>0</td>\n",
       "      <td>No</td>\n",
       "      <td>Monday</td>\n",
       "      <td>5</td>\n",
       "      <td>2016</td>\n",
       "    </tr>\n",
       "    <tr>\n",
       "      <th>3297</th>\n",
       "      <td>6.920000e+13</td>\n",
       "      <td>5743435</td>\n",
       "      <td>F</td>\n",
       "      <td>2016-05-30T09:01:04Z</td>\n",
       "      <td>2016-05-30 00:00:00+00:00</td>\n",
       "      <td>2</td>\n",
       "      <td>MARIA ORTIZ</td>\n",
       "      <td>0</td>\n",
       "      <td>0</td>\n",
       "      <td>0</td>\n",
       "      <td>0</td>\n",
       "      <td>0</td>\n",
       "      <td>0</td>\n",
       "      <td>No</td>\n",
       "      <td>Monday</td>\n",
       "      <td>5</td>\n",
       "      <td>2016</td>\n",
       "    </tr>\n",
       "    <tr>\n",
       "      <th>3298</th>\n",
       "      <td>5.650000e+13</td>\n",
       "      <td>5743848</td>\n",
       "      <td>F</td>\n",
       "      <td>2016-05-30T09:30:53Z</td>\n",
       "      <td>2016-05-30 00:00:00+00:00</td>\n",
       "      <td>1</td>\n",
       "      <td>MARIA ORTIZ</td>\n",
       "      <td>0</td>\n",
       "      <td>0</td>\n",
       "      <td>0</td>\n",
       "      <td>0</td>\n",
       "      <td>0</td>\n",
       "      <td>0</td>\n",
       "      <td>No</td>\n",
       "      <td>Monday</td>\n",
       "      <td>5</td>\n",
       "      <td>2016</td>\n",
       "    </tr>\n",
       "    <tr>\n",
       "      <th>3299</th>\n",
       "      <td>5.590000e+13</td>\n",
       "      <td>5744405</td>\n",
       "      <td>M</td>\n",
       "      <td>2016-05-30T10:13:51Z</td>\n",
       "      <td>2016-05-30 00:00:00+00:00</td>\n",
       "      <td>72</td>\n",
       "      <td>MARIA ORTIZ</td>\n",
       "      <td>0</td>\n",
       "      <td>0</td>\n",
       "      <td>0</td>\n",
       "      <td>0</td>\n",
       "      <td>0</td>\n",
       "      <td>0</td>\n",
       "      <td>No</td>\n",
       "      <td>Monday</td>\n",
       "      <td>5</td>\n",
       "      <td>2016</td>\n",
       "    </tr>\n",
       "  </tbody>\n",
       "</table>\n",
       "</div>"
      ],
      "text/plain": [
       "         PatientId  AppointmentID Gender          ScheduledDay  \\\n",
       "3295  3.160000e+12        5644237      M  2016-05-02T08:25:18Z   \n",
       "3296  9.750000e+11        5743758      F  2016-05-30T09:23:34Z   \n",
       "3297  6.920000e+13        5743435      F  2016-05-30T09:01:04Z   \n",
       "3298  5.650000e+13        5743848      F  2016-05-30T09:30:53Z   \n",
       "3299  5.590000e+13        5744405      M  2016-05-30T10:13:51Z   \n",
       "\n",
       "                AppointmentDay  Age Neighbourhood  Scholarship  Hipertension  \\\n",
       "3295 2016-05-02 00:00:00+00:00   36   MARIA ORTIZ            0             0   \n",
       "3296 2016-05-30 00:00:00+00:00   52   MARIA ORTIZ            0             0   \n",
       "3297 2016-05-30 00:00:00+00:00    2   MARIA ORTIZ            0             0   \n",
       "3298 2016-05-30 00:00:00+00:00    1   MARIA ORTIZ            0             0   \n",
       "3299 2016-05-30 00:00:00+00:00   72   MARIA ORTIZ            0             0   \n",
       "\n",
       "      Diabetes  Alcoholism  Handcap  SMS_received No-show Day_of_week  Month  \\\n",
       "3295         0           0        0             0      No      Monday      5   \n",
       "3296         0           0        0             0      No      Monday      5   \n",
       "3297         0           0        0             0      No      Monday      5   \n",
       "3298         0           0        0             0      No      Monday      5   \n",
       "3299         0           0        0             0      No      Monday      5   \n",
       "\n",
       "      Year  \n",
       "3295  2016  \n",
       "3296  2016  \n",
       "3297  2016  \n",
       "3298  2016  \n",
       "3299  2016  "
      ]
     },
     "execution_count": 5,
     "metadata": {},
     "output_type": "execute_result"
    }
   ],
   "source": [
    "n1,n2,n3=get_user_info()\n",
    "df=fillter_info(n1,n2,n3)\n",
    "df.head()"
   ]
  },
  {
   "cell_type": "code",
   "execution_count": 6,
   "id": "2659bd68",
   "metadata": {},
   "outputs": [
    {
     "data": {
      "text/plain": [
       "2"
      ]
     },
     "execution_count": 6,
     "metadata": {},
     "output_type": "execute_result"
    }
   ],
   "source": [
    "# Get information about the ndim of the dataframe\n",
    "df.ndim"
   ]
  },
  {
   "cell_type": "code",
   "execution_count": 7,
   "id": "370f0a92",
   "metadata": {},
   "outputs": [
    {
     "data": {
      "text/plain": [
       "(18023, 17)"
      ]
     },
     "execution_count": 7,
     "metadata": {},
     "output_type": "execute_result"
    }
   ],
   "source": [
    "# Get information about the shape of the dataframe\n",
    "df.shape\n"
   ]
  },
  {
   "cell_type": "code",
   "execution_count": 8,
   "id": "bafcaa93",
   "metadata": {},
   "outputs": [
    {
     "data": {
      "text/plain": [
       "306391"
      ]
     },
     "execution_count": 8,
     "metadata": {},
     "output_type": "execute_result"
    }
   ],
   "source": [
    "# Get information about the size of the dataframe\n",
    "df.size\n"
   ]
  },
  {
   "cell_type": "markdown",
   "id": "1479bc54",
   "metadata": {},
   "source": [
    "#### Step 1: Check the column names to see if we have to rename them:\n",
    "\n"
   ]
  },
  {
   "cell_type": "code",
   "execution_count": 9,
   "id": "e6ba94e4",
   "metadata": {},
   "outputs": [
    {
     "data": {
      "text/plain": [
       "Index(['PatientId', 'AppointmentID', 'Gender', 'ScheduledDay',\n",
       "       'AppointmentDay', 'Age', 'Neighbourhood', 'Scholarship', 'Hipertension',\n",
       "       'Diabetes', 'Alcoholism', 'Handcap', 'SMS_received', 'No-show',\n",
       "       'Day_of_week', 'Month', 'Year'],\n",
       "      dtype='object')"
      ]
     },
     "execution_count": 9,
     "metadata": {},
     "output_type": "execute_result"
    }
   ],
   "source": [
    "df.columns\n"
   ]
  },
  {
   "cell_type": "code",
   "execution_count": 10,
   "id": "834659b3",
   "metadata": {},
   "outputs": [
    {
     "data": {
      "text/plain": [
       "Int64Index([ 3295,  3296,  3297,  3298,  3299,  3300,  3301,  3302,  3303,\n",
       "             3304,\n",
       "            ...\n",
       "            84040, 84041, 84042, 84043, 84044, 84045, 84047, 84048, 84049,\n",
       "            84050],\n",
       "           dtype='int64', length=18023)"
      ]
     },
     "execution_count": 10,
     "metadata": {},
     "output_type": "execute_result"
    }
   ],
   "source": [
    "df.index\n"
   ]
  },
  {
   "cell_type": "code",
   "execution_count": 11,
   "id": "b6f4a17e",
   "metadata": {},
   "outputs": [
    {
     "data": {
      "text/html": [
       "<div>\n",
       "<style scoped>\n",
       "    .dataframe tbody tr th:only-of-type {\n",
       "        vertical-align: middle;\n",
       "    }\n",
       "\n",
       "    .dataframe tbody tr th {\n",
       "        vertical-align: top;\n",
       "    }\n",
       "\n",
       "    .dataframe thead th {\n",
       "        text-align: right;\n",
       "    }\n",
       "</style>\n",
       "<table border=\"1\" class=\"dataframe\">\n",
       "  <thead>\n",
       "    <tr style=\"text-align: right;\">\n",
       "      <th></th>\n",
       "      <th>PatientId</th>\n",
       "      <th>AppointmentID</th>\n",
       "      <th>Age</th>\n",
       "      <th>Scholarship</th>\n",
       "      <th>Hipertension</th>\n",
       "      <th>Diabetes</th>\n",
       "      <th>Alcoholism</th>\n",
       "      <th>Handcap</th>\n",
       "      <th>SMS_received</th>\n",
       "      <th>Month</th>\n",
       "      <th>Year</th>\n",
       "    </tr>\n",
       "  </thead>\n",
       "  <tbody>\n",
       "    <tr>\n",
       "      <th>count</th>\n",
       "      <td>1.802300e+04</td>\n",
       "      <td>1.802300e+04</td>\n",
       "      <td>18023.000000</td>\n",
       "      <td>18023.000000</td>\n",
       "      <td>18023.000000</td>\n",
       "      <td>18023.000000</td>\n",
       "      <td>18023.000000</td>\n",
       "      <td>18023.000000</td>\n",
       "      <td>18023.000000</td>\n",
       "      <td>18023.0</td>\n",
       "      <td>18023.0</td>\n",
       "    </tr>\n",
       "    <tr>\n",
       "      <th>mean</th>\n",
       "      <td>1.481410e+14</td>\n",
       "      <td>5.653789e+06</td>\n",
       "      <td>36.843034</td>\n",
       "      <td>0.097764</td>\n",
       "      <td>0.196471</td>\n",
       "      <td>0.070022</td>\n",
       "      <td>0.031737</td>\n",
       "      <td>0.020807</td>\n",
       "      <td>0.260778</td>\n",
       "      <td>5.0</td>\n",
       "      <td>2016.0</td>\n",
       "    </tr>\n",
       "    <tr>\n",
       "      <th>std</th>\n",
       "      <td>2.562484e+14</td>\n",
       "      <td>6.600068e+04</td>\n",
       "      <td>23.301938</td>\n",
       "      <td>0.297003</td>\n",
       "      <td>0.397340</td>\n",
       "      <td>0.255191</td>\n",
       "      <td>0.175305</td>\n",
       "      <td>0.155039</td>\n",
       "      <td>0.439071</td>\n",
       "      <td>0.0</td>\n",
       "      <td>0.0</td>\n",
       "    </tr>\n",
       "    <tr>\n",
       "      <th>min</th>\n",
       "      <td>1.420000e+05</td>\n",
       "      <td>5.122866e+06</td>\n",
       "      <td>0.000000</td>\n",
       "      <td>0.000000</td>\n",
       "      <td>0.000000</td>\n",
       "      <td>0.000000</td>\n",
       "      <td>0.000000</td>\n",
       "      <td>0.000000</td>\n",
       "      <td>0.000000</td>\n",
       "      <td>5.0</td>\n",
       "      <td>2016.0</td>\n",
       "    </tr>\n",
       "    <tr>\n",
       "      <th>25%</th>\n",
       "      <td>4.130000e+12</td>\n",
       "      <td>5.628498e+06</td>\n",
       "      <td>17.000000</td>\n",
       "      <td>0.000000</td>\n",
       "      <td>0.000000</td>\n",
       "      <td>0.000000</td>\n",
       "      <td>0.000000</td>\n",
       "      <td>0.000000</td>\n",
       "      <td>0.000000</td>\n",
       "      <td>5.0</td>\n",
       "      <td>2016.0</td>\n",
       "    </tr>\n",
       "    <tr>\n",
       "      <th>50%</th>\n",
       "      <td>3.150000e+13</td>\n",
       "      <td>5.662614e+06</td>\n",
       "      <td>37.000000</td>\n",
       "      <td>0.000000</td>\n",
       "      <td>0.000000</td>\n",
       "      <td>0.000000</td>\n",
       "      <td>0.000000</td>\n",
       "      <td>0.000000</td>\n",
       "      <td>0.000000</td>\n",
       "      <td>5.0</td>\n",
       "      <td>2016.0</td>\n",
       "    </tr>\n",
       "    <tr>\n",
       "      <th>75%</th>\n",
       "      <td>9.500000e+13</td>\n",
       "      <td>5.698392e+06</td>\n",
       "      <td>55.000000</td>\n",
       "      <td>0.000000</td>\n",
       "      <td>0.000000</td>\n",
       "      <td>0.000000</td>\n",
       "      <td>0.000000</td>\n",
       "      <td>0.000000</td>\n",
       "      <td>1.000000</td>\n",
       "      <td>5.0</td>\n",
       "      <td>2016.0</td>\n",
       "    </tr>\n",
       "    <tr>\n",
       "      <th>max</th>\n",
       "      <td>1.000000e+15</td>\n",
       "      <td>5.748370e+06</td>\n",
       "      <td>115.000000</td>\n",
       "      <td>1.000000</td>\n",
       "      <td>1.000000</td>\n",
       "      <td>1.000000</td>\n",
       "      <td>1.000000</td>\n",
       "      <td>3.000000</td>\n",
       "      <td>1.000000</td>\n",
       "      <td>5.0</td>\n",
       "      <td>2016.0</td>\n",
       "    </tr>\n",
       "  </tbody>\n",
       "</table>\n",
       "</div>"
      ],
      "text/plain": [
       "          PatientId  AppointmentID           Age   Scholarship  Hipertension  \\\n",
       "count  1.802300e+04   1.802300e+04  18023.000000  18023.000000  18023.000000   \n",
       "mean   1.481410e+14   5.653789e+06     36.843034      0.097764      0.196471   \n",
       "std    2.562484e+14   6.600068e+04     23.301938      0.297003      0.397340   \n",
       "min    1.420000e+05   5.122866e+06      0.000000      0.000000      0.000000   \n",
       "25%    4.130000e+12   5.628498e+06     17.000000      0.000000      0.000000   \n",
       "50%    3.150000e+13   5.662614e+06     37.000000      0.000000      0.000000   \n",
       "75%    9.500000e+13   5.698392e+06     55.000000      0.000000      0.000000   \n",
       "max    1.000000e+15   5.748370e+06    115.000000      1.000000      1.000000   \n",
       "\n",
       "           Diabetes    Alcoholism       Handcap  SMS_received    Month  \\\n",
       "count  18023.000000  18023.000000  18023.000000  18023.000000  18023.0   \n",
       "mean       0.070022      0.031737      0.020807      0.260778      5.0   \n",
       "std        0.255191      0.175305      0.155039      0.439071      0.0   \n",
       "min        0.000000      0.000000      0.000000      0.000000      5.0   \n",
       "25%        0.000000      0.000000      0.000000      0.000000      5.0   \n",
       "50%        0.000000      0.000000      0.000000      0.000000      5.0   \n",
       "75%        0.000000      0.000000      0.000000      1.000000      5.0   \n",
       "max        1.000000      1.000000      3.000000      1.000000      5.0   \n",
       "\n",
       "          Year  \n",
       "count  18023.0  \n",
       "mean    2016.0  \n",
       "std        0.0  \n",
       "min     2016.0  \n",
       "25%     2016.0  \n",
       "50%     2016.0  \n",
       "75%     2016.0  \n",
       "max     2016.0  "
      ]
     },
     "execution_count": 11,
     "metadata": {},
     "output_type": "execute_result"
    }
   ],
   "source": [
    "df.describe()\n"
   ]
  },
  {
   "cell_type": "markdown",
   "id": "265c9b86",
   "metadata": {},
   "source": [
    "\n",
    "### Step 2: Get information about the variables in the dataframe and make changes if necessary"
   ]
  },
  {
   "cell_type": "code",
   "execution_count": 12,
   "id": "a1d32427",
   "metadata": {},
   "outputs": [
    {
     "name": "stdout",
     "output_type": "stream",
     "text": [
      "<class 'pandas.core.frame.DataFrame'>\n",
      "Int64Index: 18023 entries, 3295 to 84050\n",
      "Data columns (total 17 columns):\n",
      " #   Column          Non-Null Count  Dtype              \n",
      "---  ------          --------------  -----              \n",
      " 0   PatientId       18023 non-null  float64            \n",
      " 1   AppointmentID   18023 non-null  int64              \n",
      " 2   Gender          18023 non-null  object             \n",
      " 3   ScheduledDay    18023 non-null  object             \n",
      " 4   AppointmentDay  18023 non-null  datetime64[ns, UTC]\n",
      " 5   Age             18023 non-null  int64              \n",
      " 6   Neighbourhood   18023 non-null  object             \n",
      " 7   Scholarship     18023 non-null  int64              \n",
      " 8   Hipertension    18023 non-null  int64              \n",
      " 9   Diabetes        18023 non-null  int64              \n",
      " 10  Alcoholism      18023 non-null  int64              \n",
      " 11  Handcap         18023 non-null  int64              \n",
      " 12  SMS_received    18023 non-null  int64              \n",
      " 13  No-show         18023 non-null  object             \n",
      " 14  Day_of_week     18023 non-null  object             \n",
      " 15  Month           18023 non-null  int64              \n",
      " 16  Year            18023 non-null  int64              \n",
      "dtypes: datetime64[ns, UTC](1), float64(1), int64(10), object(5)\n",
      "memory usage: 2.5+ MB\n"
     ]
    }
   ],
   "source": [
    "df.info()\n"
   ]
  },
  {
   "cell_type": "markdown",
   "id": "ef21fc1d",
   "metadata": {},
   "source": [
    "### Data Cleaning\n",
    "**Drop extraneous columns**\n",
    "**Step 1: Check the column names to see if we have to rename them:**"
   ]
  },
  {
   "cell_type": "code",
   "execution_count": 13,
   "id": "2c25f70e",
   "metadata": {},
   "outputs": [
    {
     "data": {
      "text/html": [
       "<div>\n",
       "<style scoped>\n",
       "    .dataframe tbody tr th:only-of-type {\n",
       "        vertical-align: middle;\n",
       "    }\n",
       "\n",
       "    .dataframe tbody tr th {\n",
       "        vertical-align: top;\n",
       "    }\n",
       "\n",
       "    .dataframe thead th {\n",
       "        text-align: right;\n",
       "    }\n",
       "</style>\n",
       "<table border=\"1\" class=\"dataframe\">\n",
       "  <thead>\n",
       "    <tr style=\"text-align: right;\">\n",
       "      <th></th>\n",
       "      <th>AppointmentID</th>\n",
       "      <th>Gender</th>\n",
       "      <th>Age</th>\n",
       "      <th>Neighbourhood</th>\n",
       "      <th>Scholarship</th>\n",
       "      <th>Hipertension</th>\n",
       "      <th>Diabetes</th>\n",
       "      <th>Alcoholism</th>\n",
       "      <th>Handcap</th>\n",
       "      <th>SMS_received</th>\n",
       "      <th>No-show</th>\n",
       "      <th>Day_of_week</th>\n",
       "      <th>Month</th>\n",
       "      <th>Year</th>\n",
       "    </tr>\n",
       "  </thead>\n",
       "  <tbody>\n",
       "    <tr>\n",
       "      <th>3295</th>\n",
       "      <td>5644237</td>\n",
       "      <td>M</td>\n",
       "      <td>36</td>\n",
       "      <td>MARIA ORTIZ</td>\n",
       "      <td>0</td>\n",
       "      <td>0</td>\n",
       "      <td>0</td>\n",
       "      <td>0</td>\n",
       "      <td>0</td>\n",
       "      <td>0</td>\n",
       "      <td>No</td>\n",
       "      <td>Monday</td>\n",
       "      <td>5</td>\n",
       "      <td>2016</td>\n",
       "    </tr>\n",
       "    <tr>\n",
       "      <th>3296</th>\n",
       "      <td>5743758</td>\n",
       "      <td>F</td>\n",
       "      <td>52</td>\n",
       "      <td>MARIA ORTIZ</td>\n",
       "      <td>0</td>\n",
       "      <td>0</td>\n",
       "      <td>0</td>\n",
       "      <td>0</td>\n",
       "      <td>0</td>\n",
       "      <td>0</td>\n",
       "      <td>No</td>\n",
       "      <td>Monday</td>\n",
       "      <td>5</td>\n",
       "      <td>2016</td>\n",
       "    </tr>\n",
       "    <tr>\n",
       "      <th>3297</th>\n",
       "      <td>5743435</td>\n",
       "      <td>F</td>\n",
       "      <td>2</td>\n",
       "      <td>MARIA ORTIZ</td>\n",
       "      <td>0</td>\n",
       "      <td>0</td>\n",
       "      <td>0</td>\n",
       "      <td>0</td>\n",
       "      <td>0</td>\n",
       "      <td>0</td>\n",
       "      <td>No</td>\n",
       "      <td>Monday</td>\n",
       "      <td>5</td>\n",
       "      <td>2016</td>\n",
       "    </tr>\n",
       "    <tr>\n",
       "      <th>3298</th>\n",
       "      <td>5743848</td>\n",
       "      <td>F</td>\n",
       "      <td>1</td>\n",
       "      <td>MARIA ORTIZ</td>\n",
       "      <td>0</td>\n",
       "      <td>0</td>\n",
       "      <td>0</td>\n",
       "      <td>0</td>\n",
       "      <td>0</td>\n",
       "      <td>0</td>\n",
       "      <td>No</td>\n",
       "      <td>Monday</td>\n",
       "      <td>5</td>\n",
       "      <td>2016</td>\n",
       "    </tr>\n",
       "    <tr>\n",
       "      <th>3299</th>\n",
       "      <td>5744405</td>\n",
       "      <td>M</td>\n",
       "      <td>72</td>\n",
       "      <td>MARIA ORTIZ</td>\n",
       "      <td>0</td>\n",
       "      <td>0</td>\n",
       "      <td>0</td>\n",
       "      <td>0</td>\n",
       "      <td>0</td>\n",
       "      <td>0</td>\n",
       "      <td>No</td>\n",
       "      <td>Monday</td>\n",
       "      <td>5</td>\n",
       "      <td>2016</td>\n",
       "    </tr>\n",
       "  </tbody>\n",
       "</table>\n",
       "</div>"
      ],
      "text/plain": [
       "      AppointmentID Gender  Age Neighbourhood  Scholarship  Hipertension  \\\n",
       "3295        5644237      M   36   MARIA ORTIZ            0             0   \n",
       "3296        5743758      F   52   MARIA ORTIZ            0             0   \n",
       "3297        5743435      F    2   MARIA ORTIZ            0             0   \n",
       "3298        5743848      F    1   MARIA ORTIZ            0             0   \n",
       "3299        5744405      M   72   MARIA ORTIZ            0             0   \n",
       "\n",
       "      Diabetes  Alcoholism  Handcap  SMS_received No-show Day_of_week  Month  \\\n",
       "3295         0           0        0             0      No      Monday      5   \n",
       "3296         0           0        0             0      No      Monday      5   \n",
       "3297         0           0        0             0      No      Monday      5   \n",
       "3298         0           0        0             0      No      Monday      5   \n",
       "3299         0           0        0             0      No      Monday      5   \n",
       "\n",
       "      Year  \n",
       "3295  2016  \n",
       "3296  2016  \n",
       "3297  2016  \n",
       "3298  2016  \n",
       "3299  2016  "
      ]
     },
     "execution_count": 13,
     "metadata": {},
     "output_type": "execute_result"
    }
   ],
   "source": [
    "# After discussing the structure of the data and any problems that need to be\n",
    "#   cleaned, perform those cleaning steps in the second part of this section.\n",
    "# extract your data that you need and to be more easy when working on it so we delete some columns probably not useful for us \n",
    "df.drop([\"PatientId\",\"ScheduledDay\",\"AppointmentDay\"],axis=1,inplace=True)\n",
    "df.head()"
   ]
  },
  {
   "cell_type": "markdown",
   "id": "189fd874",
   "metadata": {},
   "source": [
    "**let's explore some information about the data frame that have been chosen\n",
    "How many people visited the clinic that day and how many people have different diseases**"
   ]
  },
  {
   "cell_type": "code",
   "execution_count": 14,
   "id": "1aef1036",
   "metadata": {},
   "outputs": [],
   "source": [
    "def info_user(df):\n",
    "\n",
    "    \n",
    "    \"\"\"\n",
    "        let's explore some information about the data frame that have been chosen\n",
    "        How many people visited the clinic that day and how many people have different diseases\n",
    "    \"\"\"\n",
    "    if \"Age\" in df :\n",
    "        age=df[\"Age\"].mean()\n",
    "        print(f\"The Mean of people Age who visited the clinic\\n{age}\")\n",
    "        print(\"-\"*50)\n",
    "    if \"Gender\" in df :\n",
    "        gender=df[\"Gender\"].value_counts()\n",
    "        print(f\"The number of people who visited the clinic and are they males or females\\n{gender}\")\n",
    "        print(\"-\"*50)\n",
    "    if \"Neighbourhood\" in df:\n",
    "        Neighbourhood=df[\"Neighbourhood\"].mode()[0]\n",
    "        print(f\"the most Neighbourhood this day is\\n{Neighbourhood}\")  \n",
    "        print(\"-\"*50)\n",
    "    if \"Hipertension\" in df :\n",
    "        Hipertension=df[\"Hipertension\"].value_counts()\n",
    "        print(f\"The number of people who visited the clinic and how many people have different diseases[0 is not patient 1 is patient]\\n{Hipertension}\")\n",
    "        print(\"-\"*50)\n",
    "    if \"Diabetes\" in df :\n",
    "        Diabetes=df[\"Diabetes\"].value_counts()\n",
    "        print(f\"The number of people who visited the clinic and how many people have different diseases[0 is not patient 1 is patient]\\n{Diabetes}\")\n",
    "        print(\"-\"*50)\n",
    "    if \"Alcoholism\" in df :\n",
    "        Alcoholism=df[\"Alcoholism\"].value_counts()\n",
    "        print(f\"The number of people who visited the clinic and how many people have different diseases[0 is not patient 1 is patient]\\n{Alcoholism}\")\n",
    "        print(\"-\"*50)\n",
    "    if \"Handcap\" in df :\n",
    "        Handcap=df[\"Handcap\"].value_counts()\n",
    "        print(f\"The number of people who visited the clinic and how many people have different diseases[0 is not patient 1 is patient]\\n{Handcap}\")  \n",
    "        print(\"-\"*50)\n",
    "    if \"SMS_received\" in df :\n",
    "        SMS_received=df[\"SMS_received\"].value_counts()\n",
    "        print(f\"The number of people who recieved SMS or not at this day[0 is not SMS 1 is SMS]\\n{SMS_received}\")\n",
    "        print(\"-\"*50)\n",
    "    if \"AppointmentID\" in df :\n",
    "        AppointmentID=df[\"AppointmentID\"].mode()[0]\n",
    "        print(f\"The number of people ID who visited the clinic\\n{AppointmentID}\")\n",
    "        \n",
    "    \n",
    "   \n",
    "    "
   ]
  },
  {
   "cell_type": "code",
   "execution_count": 15,
   "id": "51e4b59e",
   "metadata": {
    "scrolled": true
   },
   "outputs": [
    {
     "name": "stdout",
     "output_type": "stream",
     "text": [
      "The Mean of people Age who visited the clinic\n",
      "36.84303390112634\n",
      "--------------------------------------------------\n",
      "The number of people who visited the clinic and are they males or females\n",
      "F    11590\n",
      "M     6433\n",
      "Name: Gender, dtype: int64\n",
      "--------------------------------------------------\n",
      "the most Neighbourhood this day is\n",
      "ANDORINHAS\n",
      "--------------------------------------------------\n",
      "The number of people who visited the clinic and how many people have different diseases[0 is not patient 1 is patient]\n",
      "0    14482\n",
      "1     3541\n",
      "Name: Hipertension, dtype: int64\n",
      "--------------------------------------------------\n",
      "The number of people who visited the clinic and how many people have different diseases[0 is not patient 1 is patient]\n",
      "0    16761\n",
      "1     1262\n",
      "Name: Diabetes, dtype: int64\n",
      "--------------------------------------------------\n",
      "The number of people who visited the clinic and how many people have different diseases[0 is not patient 1 is patient]\n",
      "0    17451\n",
      "1      572\n",
      "Name: Alcoholism, dtype: int64\n",
      "--------------------------------------------------\n",
      "The number of people who visited the clinic and how many people have different diseases[0 is not patient 1 is patient]\n",
      "0    17680\n",
      "1      312\n",
      "2       30\n",
      "3        1\n",
      "Name: Handcap, dtype: int64\n",
      "--------------------------------------------------\n",
      "The number of people who recieved SMS or not at this day[0 is not SMS 1 is SMS]\n",
      "0    13323\n",
      "1     4700\n",
      "Name: SMS_received, dtype: int64\n",
      "--------------------------------------------------\n",
      "The number of people ID who visited the clinic\n",
      "5122866\n"
     ]
    }
   ],
   "source": [
    "n5=info_user(df)\n"
   ]
  },
  {
   "cell_type": "code",
   "execution_count": 16,
   "id": "4371a1b3",
   "metadata": {},
   "outputs": [],
   "source": [
    "def matplot_vis(df):\n",
    "\n",
    "    \"\"\"\n",
    "    Let's do some visualization about the data you extracted\n",
    "    To show you the whole picture in a more clear way\n",
    "    \"\"\"\n",
    "    # visualize your data about Age\n",
    "    plt.figure(figsize=[9,10])\n",
    "    plt.hist(df[\"Age\"],label=[\"Age\"],edgecolor=\"black\",color=\"#875A7B\")\n",
    "    plt.legend()\n",
    "    plt.title(\"comparsion regarding Age\")\n",
    "    plt.grid(True)\n",
    "    plt.style.use(\"_classic_test_patch\")\n",
    "    # visualize your data about Gender\n",
    "    plt.figure(figsize=[9,10])\n",
    "    plt.hist(df[\"Gender\"],label=[\"Gender\"],color=\"#53338E\")\n",
    "    plt.legend()\n",
    "    plt.title(\"comparsion regarding Gender\")\n",
    "    plt.grid(True)\n",
    "    plt.style.use(\"_classic_test_patch\")\n",
    "    # visualize your data about SMS_received\n",
    "    plt.figure(figsize=[10,10])\n",
    "    plt.hist(df[\"SMS_received\"],label=[\"SMS_received\"],color=\"red\")\n",
    "    plt.legend()\n",
    "    plt.title(\"comparsion regarding SMS_received\")\n",
    "    plt.grid(True)\n",
    "    plt.style.use(\"_classic_test_patch\")\n",
    "    # visualize your data about Neighbourhood\n",
    "    plt.figure(figsize=[10,10])\n",
    "    x=np.unique(df[\"Neighbourhood\"])\n",
    "    plt.bar(x,df[\"Neighbourhood\"].value_counts(),label=[\"Neighbourhood\"],color=\"#53338E\",edgecolor=\"black\")\n",
    "    plt.legend()\n",
    "    plt.title(\"comparsion regarding Neighbourhood\")\n",
    "    plt.grid(True)\n",
    "    plt.style.use(\"tableau-colorblind10\")\n",
    "    # visualize your data about Hipertension\n",
    "    plt.figure(figsize=[10,10])\n",
    "    plt.hist(df[\"Hipertension\"],label=[\"Hipertension\"],color=\"pink\")\n",
    "    plt.legend()\n",
    "    plt.title(\"comparsion regarding Hipertension\")\n",
    "    plt.grid(True)\n",
    "    plt.style.use(\"tableau-colorblind10\")\n",
    "    # visualize your data about Diabetes\n",
    "    plt.figure(figsize=[10,10])\n",
    "    plt.hist(df[\"Diabetes\"],label=[\"Diabetes\"],color=\"#CE37C7\")\n",
    "    plt.legend()\n",
    "    plt.title(\"comparsion regarding Diabetes\")\n",
    "    plt.grid(True)\n",
    "    plt.style.use(\"tableau-colorblind10\")\n",
    "    # visualize your data about Alcoholism\n",
    "    plt.figure(figsize=[10,10])\n",
    "    plt.hist(df[\"Alcoholism\"],label=[\"Alcoholism\"],color=\"#F79500\")\n",
    "    plt.legend()\n",
    "    plt.title(\"comparsion regarding Alcoholism\")\n",
    "    plt.grid(True)\n",
    "    plt.style.use(\"Solarize_Light2\")\n",
    "    # visualize your data about Handcap\n",
    "    plt.figure(figsize=[10,10])\n",
    "    plt.hist(df[\"Handcap\"],label=[\"Handcap\"],color=\"#310000\")\n",
    "    plt.legend()\n",
    "    plt.title(\"comparsion regarding Handcap\")\n",
    "    plt.grid(True)\n",
    "    plt.style.use(\"Solarize_Light2\")\n"
   ]
  },
  {
   "cell_type": "code",
   "execution_count": 17,
   "id": "26b78001",
   "metadata": {
    "scrolled": true
   },
   "outputs": [
    {
     "data": {
      "image/png": "[encoded data removed]",
      "text/plain": [
       "<Figure size 648x720 with 1 Axes>"
      ]
     },
     "metadata": {
      "needs_background": "light"
     },
     "output_type": "display_data"
    },
    {
     "data": {
      "image/png": "[encoded data removed]",
      "text/plain": [
       "<Figure size 648x720 with 1 Axes>"
      ]
     },
     "metadata": {
      "needs_background": "light"
     },
     "output_type": "display_data"
    },
    {
     "data": {
      "image/png": "[encoded data removed]",
      "text/plain": [
       "<Figure size 720x720 with 1 Axes>"
      ]
     },
     "metadata": {
      "needs_background": "light"
     },
     "output_type": "display_data"
    },
    {
     "data": {
      "image/png": "[encoded data removed]",
      "text/plain": [
       "<Figure size 720x720 with 1 Axes>"
      ]
     },
     "metadata": {
      "needs_background": "light"
     },
     "output_type": "display_data"
    },
    {
     "data": {
      "image/png": "[encoded data removed]",
      "text/plain": [
       "<Figure size 720x720 with 1 Axes>"
      ]
     },
     "metadata": {
      "needs_background": "light"
     },
     "output_type": "display_data"
    },
    {
     "data": {
      "image/png": "[encoded data removed]",
      "text/plain": [
       "<Figure size 720x720 with 1 Axes>"
      ]
     },
     "metadata": {
      "needs_background": "light"
     },
     "output_type": "display_data"
    },
    {
     "data": {
      "image/png": "[encoded data removed]",
      "text/plain": [
       "<Figure size 720x720 with 1 Axes>"
      ]
     },
     "metadata": {
      "needs_background": "light"
     },
     "output_type": "display_data"
    },
    {
     "data": {
      "image/png": "[encoded data removed]",
      "text/plain": [
       "<Figure size 720x720 with 1 Axes>"
      ]
     },
     "metadata": {},
     "output_type": "display_data"
    }
   ],
   "source": [
    "n6=matplot_vis(df)"
   ]
  },
  {
   "cell_type": "markdown",
   "id": "be7fde42",
   "metadata": {},
   "source": [
    "\n",
    "### Limitations\n",
    "\n",
    "**The different categories (Columns) Provided in this data set do not provide sufficent information to derive the exact reason behind the behaviour of the patients towards attending or missing the appointment.**\n",
    "\n",
    "**We observe a anamolous behviour when we study the patients who recieve SMS miss their appointment often. Now we cannot get to the exact**\n",
    "\n",
    "**Similarly along with the location of neighbouthood of the hospitals if information like rural,Urban area was provided it could have made it more easier to understand**\n",
    "\n",
    "**Here very selected deseases are mentioned in the data which should have been more elaborated and common disease like flu etc should be menitoned that would have helped us get the deeper insight to understand the trends and patterns welll**"
   ]
  },
  {
   "cell_type": "markdown",
   "id": "ae5c65a5",
   "metadata": {},
   "source": [
    "#### Submitting your Project\n",
    "**Before you submit your project, you need to create a .html or .pdf version of this notebook in the workspace here. To do that, run the code cell below. If it worked correctly, you should get a return code of 0, and you should see the generated .html file in the workspace directory (click on the orange Jupyter icon in the upper left).**\n",
    "\n",
    "Alternatively, you can download this report as .html via the File > Download as submenu, and then manually upload it into the workspace directory by clicking on the orange Jupyter icon in the upper left, then using the Upload button.\n",
    "\n",
    "**Once you've done this, you can submit your project by clicking on the \"Submit Project\" button in the lower right here. This will create and submit a zip file with this .ipynb doc and the .html or .pdf version you created. Congratulations!**"
   ]
  }
 ],
 "metadata": {
  "kernelspec": {
   "display_name": "Python 3",
   "language": "python",
   "name": "python3"
  },
  "language_info": {
   "codemirror_mode": {
    "name": "ipython",
    "version": 3
   },
   "file_extension": ".py",
   "mimetype": "text/x-python",
   "name": "python",
   "nbconvert_exporter": "python",
   "pygments_lexer": "ipython3",
   "version": "3.8.8"
  }
 },
 "nbformat": 4,
 "nbformat_minor": 5
}
